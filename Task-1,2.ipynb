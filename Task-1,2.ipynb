{
 "cells": [
  {
   "cell_type": "markdown",
   "metadata": {},
   "source": [
    "# Assignment-1 Submisson date -22/10/2019"
   ]
  },
  {
   "cell_type": "code",
   "execution_count": null,
   "metadata": {},
   "outputs": [],
   "source": [
    "# Task-1 Program-1\n",
    "print(\"Hello Python\")"
   ]
  },
  {
   "cell_type": "code",
   "execution_count": null,
   "metadata": {},
   "outputs": [],
   "source": [
    "#Task-1 program-2\n",
    "#  Python program Write a program which will find all such numbers which are divisible by 7 but are not a multiple of 5, \n",
    "#between 2000 and 3200 (both included). The numbers obtained should be printed in a comma-separated sequence on a single line. \n",
    "\n",
    "my_list=[]   # Create an empty list\n",
    "for i in range(2000, 3200):\n",
    "# Check the provided condition\n",
    "    if (i%7==0) and (i%5!=0):\n",
    "# Append the items to the list\n",
    "        my_list.append(str(i))\n",
    "\n",
    "print(','.join(my_list))"
   ]
  },
  {
   "cell_type": "code",
   "execution_count": null,
   "metadata": {},
   "outputs": [],
   "source": [
    "#Task-1 program-3 \n",
    "#Python program will accept user first name last name and print the name in reverse order\n",
    "\n",
    "fname = input(\"Input your First Name : \")\n",
    "lname = input(\"Input your Last Name : \")\n",
    "fname1=fname[::-1]\n",
    "lname1=lname[::-1]\n",
    "print (lname1 + \" \" + fname1)"
   ]
  },
  {
   "cell_type": "code",
   "execution_count": 21,
   "metadata": {},
   "outputs": [
    {
     "name": "stdout",
     "output_type": "stream",
     "text": [
      "Volume of sphere =  904.7786842338603\n"
     ]
    }
   ],
   "source": [
    "#Task-1 program-4\n",
    "# Python Program to find Volume of the Sphere\n",
    "\n",
    "import math\n",
    "pi = math.pi\n",
    "dia = 12\n",
    "rad = dia/2\n",
    "volume = ((4/3) * pi * rad**3)\n",
    "print(\"Volume of sphere = \", volume)"
   ]
  },
  {
   "cell_type": "code",
   "execution_count": 28,
   "metadata": {},
   "outputs": [
    {
     "name": "stdout",
     "output_type": "stream",
     "text": [
      "Input comma seprated numbers : 1,2,3\n",
      "List :  ['1', '2', '3']\n"
     ]
    }
   ],
   "source": [
    "#Task-2 program-1\n",
    "# Accept a comma separated number from console and store it in a list\n",
    "\n",
    "values =input(\"Input comma seprated numbers : \")\n",
    "list1 = values.split(\",\")\n",
    "print('List : ',list1)"
   ]
  },
  {
   "cell_type": "code",
   "execution_count": 30,
   "metadata": {},
   "outputs": [
    {
     "name": "stdout",
     "output_type": "stream",
     "text": [
      "* \n",
      "* * \n",
      "* * * \n",
      "* * * * \n",
      "* * * * * \n",
      "* * * * \n",
      "* * * \n",
      "* * \n",
      "* \n",
      "\n"
     ]
    }
   ],
   "source": [
    "##Task-2 program-2\n",
    "# Program will print star pattern using nested for loop in Python \n",
    "\n",
    "for i in range (0, 5,1):\n",
    "    for j in range(0, i + 1):\n",
    "        print(\"*\", end=' ')\n",
    "    print()\n",
    "\n",
    "for i in range (5, 0, -1):\n",
    "    for j in range(0, i -1):\n",
    "        print(\"*\", end=' ')\n",
    "    print()"
   ]
  },
  {
   "cell_type": "code",
   "execution_count": 31,
   "metadata": {},
   "outputs": [
    {
     "name": "stdout",
     "output_type": "stream",
     "text": [
      "Input comma seprated numbers : sanjiv\n",
      "vijnas\n"
     ]
    }
   ],
   "source": [
    "#Task-2 program-3\n",
    "# This Program will reverse a word after accepting the input from the user\n",
    "str =input(\"Input comma seprated numbers : \")\n",
    "str1=str[::-1]\n",
    "print(str1)"
   ]
  },
  {
   "cell_type": "code",
   "execution_count": 32,
   "metadata": {},
   "outputs": [
    {
     "name": "stdout",
     "output_type": "stream",
     "text": [
      "WE,THE PEOPLE OF INDIA,\n",
      "\thaving solemnly resolved to constitute India into a SOVEREIGN,!\n",
      "\t\t SOCIALIST, SECULAR, DEMOCRATIC REPUBLIC \n",
      "\t\t and to secure to all its citizens\n"
     ]
    }
   ],
   "source": [
    "#Task-2 program-4\n",
    "# The below statement will be printed as asked format\n",
    "##str=\"WE, THE PEOPLE OF INDIA, having solemnly resolved to constitute India into a SOVEREIGN, SOCIALIST, SECULAR, DEMOCRATIC REPUBLIC and to secure to all its citizens \"\n",
    "print(\"WE,THE PEOPLE OF INDIA,\\n\\thaving solemnly resolved to constitute India into a SOVEREIGN,!\\n\\t\\t SOCIALIST, SECULAR, DEMOCRATIC REPUBLIC \\n\\t\\t and to secure to all its citizens\")"
   ]
  }
 ],
 "metadata": {
  "kernelspec": {
   "display_name": "Python 3",
   "language": "python",
   "name": "python3"
  },
  "language_info": {
   "codemirror_mode": {
    "name": "ipython",
    "version": 3
   },
   "file_extension": ".py",
   "mimetype": "text/x-python",
   "name": "python",
   "nbconvert_exporter": "python",
   "pygments_lexer": "ipython3",
   "version": "3.7.4"
  }
 },
 "nbformat": 4,
 "nbformat_minor": 2
}
